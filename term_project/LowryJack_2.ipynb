{
 "cells": [
  {
   "cell_type": "code",
   "execution_count": 12,
   "metadata": {},
   "outputs": [],
   "source": [
    "%matplotlib inline\n",
    "\n",
    "import IPython.display as ipd\n",
    "import numpy as np\n",
    "import pandas as pd\n",
    "import matplotlib.pyplot as plt\n",
    "import sklearn\n",
    "import csv\n",
    "from sklearn.linear_model import LogisticRegression\n",
    "from sklearn.neural_network import MLPClassifier\n",
    "\n",
    "\n",
    "from warnings import simplefilter\n",
    "from sklearn.exceptions import ConvergenceWarning\n",
    "simplefilter(\"ignore\", category=ConvergenceWarning)\n",
    "\n",
    "plt.rcParams['figure.figsize'] = (12, 12)"
   ]
  },
  {
   "cell_type": "code",
   "execution_count": 14,
   "metadata": {},
   "outputs": [],
   "source": [
    "data = np.asarray(pd.read_csv(\"BlogFeedback/blogData_train.csv\", header=None))\n",
    "features = data[:10000, :-1]\n",
    "comments = data[:10000, -1]\n",
    "\n",
    "        "
   ]
  },
  {
   "cell_type": "code",
   "execution_count": 15,
   "metadata": {},
   "outputs": [
    {
     "name": "stdout",
     "output_type": "stream",
     "text": [
      "(10000, 280)\n",
      "(10000,)\n"
     ]
    }
   ],
   "source": [
    "print(features.shape)\n",
    "print(comments.shape)"
   ]
  },
  {
   "cell_type": "code",
   "execution_count": 16,
   "metadata": {},
   "outputs": [
    {
     "name": "stdout",
     "output_type": "stream",
     "text": [
      "0.13597777777777778\n"
     ]
    }
   ],
   "source": [
    "logreg = LogisticRegression(penalty=\"l2\")\n",
    "logreg.fit(features, comments)\n",
    "splits = 10\n",
    "kfold = sklearn.model_selection.KFold(n_splits=splits, random_state=0, shuffle=True)\n",
    "avg_error = 0\n",
    "for train_i, test_i in kfold.split(features):\n",
    "    train_i = np.asarray(train_i)\n",
    "    test_i = np.asarray(test_i)\n",
    "    logreg.fit(features[train_i], np.asarray(comments)[train_i])\n",
    "    estimated_comm = logreg.predict(features[test_i])\n",
    "    avg_error = avg_error + np.sum(estimated_comm)/len(train_i)\n",
    "\n",
    "avg_error = avg_error/splits\n",
    "\n",
    "print(avg_error)"
   ]
  }
 ],
 "metadata": {
  "interpreter": {
   "hash": "916dbcbb3f70747c44a77c7bcd40155683ae19c65e1c03b4aa3499c5328201f1"
  },
  "kernelspec": {
   "display_name": "Python 3.8.10 64-bit",
   "language": "python",
   "name": "python3"
  },
  "language_info": {
   "codemirror_mode": {
    "name": "ipython",
    "version": 3
   },
   "file_extension": ".py",
   "mimetype": "text/x-python",
   "name": "python",
   "nbconvert_exporter": "python",
   "pygments_lexer": "ipython3",
   "version": "3.8.10"
  },
  "orig_nbformat": 4
 },
 "nbformat": 4,
 "nbformat_minor": 2
}
